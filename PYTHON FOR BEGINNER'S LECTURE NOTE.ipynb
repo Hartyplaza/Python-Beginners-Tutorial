{
 "cells": [
  {
   "cell_type": "markdown",
   "id": "5e3fc48c",
   "metadata": {},
   "source": [
    "<a name='0'></a>\n",
    "\n",
    "# Python for Beginners\n",
    "\n",
    "This notebook clearly explains the concepts of Python for beginners. Designed as a practical guide, it introduces the fundamentals of Python programming and demonstrates how to use the language effectively through hands-on examples.\n",
    "\n",
    "You'll learn Python step-by-step, starting with basic syntax and moving into core concepts like data types, control flow, functions, and collections. Whether you're completely new to programming or looking to strengthen your foundation in Python, this notebook provides a structured and beginner-friendly approach."
   ]
  },
  {
   "cell_type": "markdown",
   "id": "67e39a3a",
   "metadata": {},
   "source": [
    "## Table of Contents\n",
    "\n",
    "* [1. What is python](#1)\n",
    "    * [1.1 Python is ideal for beginners because:](#1-1)\n",
    "* [2. Choosing an IDE (Integrated Development Environment)](#2)\n",
    "* [3. Basic Syntax and Data Types](#3)\n",
    "    * [3.1 Comments](#3-1)\n",
    "    * [3.2 Data Types in python](#3-2)\n",
    "    * [3.3 Type Checking](#3-3)\n",
    "* [4. Variables and Naming Conventions](#4)\n",
    "    * [4.1 Naming Conventions](#4-1)\n",
    "* [5. Basic Operators](#5)\n",
    "    * [5.1 Arithmetic Operators](#5-1)\n",
    "    * [5.2 Comparison Operators](#5-2)\n",
    "    * [5.3 Logical Operators](#5-3)\n",
    "* [6. Control Flow](#6)\n",
    "    * [6.1 Conditional Statements](#6-1)\n",
    "    * [6.2 Loops](#6-2)\n",
    "* [7 Collections: Lists, Tuples, Dictionaries, Sets](#7)\n",
    "    * [7.1 LIst](#7-1)\n",
    "    * [7.2 Tuples](#7-2)\n",
    "    * [7.3 Dictionaries](#7-3)\n",
    "    * [7.4 Sets](#7-4)\n",
    "\n",
    "* [8. Functions](#8)\n",
    "    * [8.1 Defining Functions](#8-1)\n",
    "    * [8.2 Parameters and Return Values](#8-2)\n",
    "    * [8.3 Return Values](#8-3)\n",
    "* [9 Error Handling](#9)\n",
    "    * [9.1 Basic Errors](#9-1)\n",
    "    * [9.2 Try/Except: Handling Errors](#9-2)"
   ]
  },
  {
   "cell_type": "markdown",
   "id": "8b070c07",
   "metadata": {},
   "source": [
    "<a name='1'></a>\n",
    "\n",
    "# 1. What is Python?"
   ]
  },
  {
   "cell_type": "markdown",
   "id": "a6c99d62",
   "metadata": {},
   "source": [
    "Python is a versatile, high-level programming language that's designed to be easy to read and simple to use.\n",
    "Developed in 1980s by Guido van Rossum, python has grown into one of the most popular languages because\n",
    "of its readability and vast application across different domains.\n",
    "\n",
    "Python is commonly used in:\n",
    "\n",
    "    1.Web Development (e.g., with frameworks like Django and Flask)\n",
    "    \n",
    "    2.Data Science and Machine Learning (with libraries like Pandas, NumPy, and TensorFlow)\n",
    "    \n",
    "    3.Automation and Scripting\n",
    "    \n",
    "    4.Game Development\n",
    "    \n",
    "    5.Software Development\n"
   ]
  },
  {
   "cell_type": "markdown",
   "id": "7a30507c",
   "metadata": {},
   "source": [
    "<a name='1-1'></a>\n",
    "\n",
    "\n",
    "### 1.1 Python is ideal for beginners because:\n",
    "\n",
    "    1.Easy to Learn: Its syntax is simple and close to plain English, so it’s easy to read and understand.\n",
    "    \n",
    "    2.Versatile: Python can be used in many fields, from data science to web development and even mobile apps.\n",
    "    \n",
    "    3.Large Community: Python has an active community and extensive documentation, making it easy to find help and resources online"
   ]
  },
  {
   "cell_type": "code",
   "execution_count": 1,
   "id": "42cfb46f",
   "metadata": {},
   "outputs": [
    {
     "name": "stdout",
     "output_type": "stream",
     "text": [
      "Hello, World!\n"
     ]
    }
   ],
   "source": [
    "#Example of python code\n",
    "\n",
    "print(\"Hello, World!\")"
   ]
  },
  {
   "cell_type": "markdown",
   "id": "81f5825d",
   "metadata": {},
   "source": [
    "<a name='2'></a>\n",
    "\n",
    "\n",
    "# 2. Choosing an IDE (Integrated Development Environment)\n",
    "\n",
    "### what is an IDE\n",
    "\n",
    "<hi>Integrated Development Environment, is a software application that helps programmers to write, test, and debug code. It provides a user-friendly interface and offers a variety of tools and features to make coding easier and more efficient. IDEs are like workshop for developers\n",
    "    \n",
    "    Python has a number of IDEs to choose from, including\n",
    "    1. PyCharm\n",
    "    2. Jupyter Notebook or google colab\n",
    "    3. Visual Studio Code.\n",
    "    \n",
    "There are two main ways to run Python code:\n",
    "\n",
    "Using Python’s Interactive Mode: Open the Python program (IDLE or terminal) and type directly into it. Each line runs right after you type it, so you get instant feedback.\n",
    "\n",
    "Running a Python File: Create a new file (using any text editor) and save it with the extension .py, like my_first_script.py. Put your code inside and save it. To run this file:"
   ]
  },
  {
   "cell_type": "markdown",
   "id": "6c4754cc",
   "metadata": {},
   "source": [
    "<a name='3'></a>\n",
    "\n",
    "\n",
    "# 3. Basic Syntax and Data Types\n",
    "The first thing you learn as a programmer is how to display text on the screen using the \"print()\" fuction"
   ]
  },
  {
   "cell_type": "code",
   "execution_count": 1,
   "id": "c023a1fe",
   "metadata": {},
   "outputs": [
    {
     "name": "stdout",
     "output_type": "stream",
     "text": [
      "Hello, World!\n"
     ]
    }
   ],
   "source": [
    "print(\"Hello, World!\")"
   ]
  },
  {
   "cell_type": "markdown",
   "id": "5d4a0e54",
   "metadata": {},
   "source": [
    "The print() function takes whatever you put inside the parentheses and displays it on the screen"
   ]
  },
  {
   "cell_type": "markdown",
   "id": "dbffdd4c",
   "metadata": {},
   "source": [
    "<a name='3-1'></a>\n",
    "\n",
    "##  3.1 Comments\n",
    "Comments are used to explain what your code is doing or why it's doing it. They're for you, the programmer, as well as anyone else who may read your code in the future."
   ]
  },
  {
   "cell_type": "markdown",
   "id": "aac0000c",
   "metadata": {},
   "source": [
    "<h4>Single-line comments: Start with the # symbol. Everything after # on the same line is ignored by the interpreter"
   ]
  },
  {
   "cell_type": "code",
   "execution_count": 2,
   "id": "e948e553",
   "metadata": {},
   "outputs": [
    {
     "name": "stdout",
     "output_type": "stream",
     "text": [
      "Hello, World!\n"
     ]
    }
   ],
   "source": [
    "# example of a single-line comment\n",
    "print(\"Hello, World!\")  # This line prints Hello, World!"
   ]
  },
  {
   "cell_type": "markdown",
   "id": "dc2143ef",
   "metadata": {},
   "source": [
    "<h4>Multi-line comments: Use triple quotes (''' or \"\"\") to create comments that span multiple lines. This is also used for documentation, especially when explaining a larger piece of code"
   ]
  },
  {
   "cell_type": "code",
   "execution_count": 3,
   "id": "d47cbaba",
   "metadata": {},
   "outputs": [
    {
     "name": "stdout",
     "output_type": "stream",
     "text": [
      "Hello, World!\n"
     ]
    }
   ],
   "source": [
    "\"\"\"\n",
    "This is a multi-line comment.\n",
    "You can write multiple lines, and Python will ignore all of them.\n",
    "\"\"\"\n",
    "print(\"Hello, World!\")"
   ]
  },
  {
   "cell_type": "markdown",
   "id": "d934a78b",
   "metadata": {},
   "source": [
    "<a name='3-2'></a>\n",
    "\n",
    "## 3.2 Data Types in python\n",
    "Data types are categories of information that can be stored in a computer. They help the computer understand what kind of data it's dealing with and how to use it.\n",
    "\n",
    "Python works with different types of data. Here are the main ones you’ll use frequently:"
   ]
  },
  {
   "cell_type": "markdown",
   "id": "bd9b0279",
   "metadata": {},
   "source": [
    "1. String (str): Text data, written in quotes"
   ]
  },
  {
   "cell_type": "code",
   "execution_count": 10,
   "id": "a384cf64",
   "metadata": {},
   "outputs": [],
   "source": [
    "name = \"Hart\"  # name is a string"
   ]
  },
  {
   "cell_type": "markdown",
   "id": "010dc913",
   "metadata": {},
   "source": [
    "2. Integer (int): Whole numbers"
   ]
  },
  {
   "cell_type": "code",
   "execution_count": 6,
   "id": "eb5fcb8d",
   "metadata": {},
   "outputs": [],
   "source": [
    "age = 25  # age is an integer"
   ]
  },
  {
   "cell_type": "markdown",
   "id": "ef22df64",
   "metadata": {},
   "source": [
    "3. Float (float): Numbers with a decimal point"
   ]
  },
  {
   "cell_type": "code",
   "execution_count": 7,
   "id": "f330f96f",
   "metadata": {},
   "outputs": [],
   "source": [
    "pi = 3.14159  # pi is a float"
   ]
  },
  {
   "cell_type": "markdown",
   "id": "a94babc1",
   "metadata": {},
   "source": [
    "4. Boolean (bool): Represents True or False values."
   ]
  },
  {
   "cell_type": "code",
   "execution_count": 17,
   "id": "ba724c5d",
   "metadata": {},
   "outputs": [],
   "source": [
    "is_fellow = True  # is_student is a boolean"
   ]
  },
  {
   "cell_type": "markdown",
   "id": "c71aa35e",
   "metadata": {},
   "source": [
    "<a name='3-3'></a>\n",
    "\n",
    "## 3.3 Type Checking\n",
    "Type checking is a way to ensure that the data in your code is of the correct type. It's a bit like checking the ingredients in a recipe before you start cooking.This is useful when you’re not sure what type of data you’re working with."
   ]
  },
  {
   "cell_type": "code",
   "execution_count": 13,
   "id": "0039db10",
   "metadata": {},
   "outputs": [
    {
     "name": "stdout",
     "output_type": "stream",
     "text": [
      "<class 'str'>\n"
     ]
    }
   ],
   "source": [
    "name = \"Hart\"\n",
    "print(type(name))"
   ]
  },
  {
   "cell_type": "code",
   "execution_count": 14,
   "id": "54195e0c",
   "metadata": {},
   "outputs": [
    {
     "name": "stdout",
     "output_type": "stream",
     "text": [
      "<class 'int'>\n"
     ]
    }
   ],
   "source": [
    "age = 25\n",
    "print(type(age))"
   ]
  },
  {
   "cell_type": "code",
   "execution_count": 15,
   "id": "2ce6cf52",
   "metadata": {},
   "outputs": [
    {
     "name": "stdout",
     "output_type": "stream",
     "text": [
      "<class 'float'>\n"
     ]
    }
   ],
   "source": [
    "pi = 3.14\n",
    "print(type(pi))"
   ]
  },
  {
   "cell_type": "code",
   "execution_count": 16,
   "id": "38f0a80c",
   "metadata": {},
   "outputs": [
    {
     "name": "stdout",
     "output_type": "stream",
     "text": [
      "<class 'bool'>\n"
     ]
    }
   ],
   "source": [
    "is_fellow = True\n",
    "print(type(is_fellow))"
   ]
  },
  {
   "cell_type": "markdown",
   "id": "f625b5f6",
   "metadata": {},
   "source": [
    "<a name='4'></a>\n",
    "\n",
    "# 4. Variables and Naming Conventions"
   ]
  },
  {
   "cell_type": "markdown",
   "id": "9a161eae",
   "metadata": {},
   "source": [
    "Variable in python, is use to store information. Think of a variable like a “label” that you put on a box.\n",
    "For example, if you label a box \"x\" and put the number 5 inside it, you can refer to that number by its label (\"x\") and the content of the box is 5.\n",
    "\n",
    "Generally variables in Python are like containers that hold values, and you can refer to those values by their variable names. Also NOTE that variables can hold different types of data, such as integers, strings, or even other variables\n",
    "\n",
    "To create a variable, you simply pick a name, use the = symbol, and then put the value you want to store."
   ]
  },
  {
   "cell_type": "code",
   "execution_count": 2,
   "id": "bedc8939",
   "metadata": {},
   "outputs": [],
   "source": [
    "x = 5               # Assigns the integer 5 to the variable x\n",
    "\n",
    "name = \"Hart\"      # Assigns the string \"Hart\" to the variable name\n",
    "\n",
    "is_fellow = True   # Assigns the boolean True to the variable is_fellow\n",
    "\n",
    "height = 1.75       # Assigns the float 1.75 to the variable height"
   ]
  },
  {
   "cell_type": "markdown",
   "id": "3f1088c7",
   "metadata": {},
   "source": [
    "After this assignment, you can use these variable names (like x and name) in your code to access the values they hold."
   ]
  },
  {
   "cell_type": "code",
   "execution_count": 3,
   "id": "9581afd9",
   "metadata": {},
   "outputs": [
    {
     "name": "stdout",
     "output_type": "stream",
     "text": [
      "5\n"
     ]
    }
   ],
   "source": [
    "print(x)"
   ]
  },
  {
   "cell_type": "code",
   "execution_count": 4,
   "id": "0f0719d9",
   "metadata": {},
   "outputs": [
    {
     "name": "stdout",
     "output_type": "stream",
     "text": [
      "Hart\n"
     ]
    }
   ],
   "source": [
    "print(name)"
   ]
  },
  {
   "cell_type": "code",
   "execution_count": 5,
   "id": "e27ccbda",
   "metadata": {},
   "outputs": [
    {
     "name": "stdout",
     "output_type": "stream",
     "text": [
      "True\n"
     ]
    }
   ],
   "source": [
    "print(is_fellow)"
   ]
  },
  {
   "cell_type": "code",
   "execution_count": 6,
   "id": "8eee638a",
   "metadata": {},
   "outputs": [
    {
     "name": "stdout",
     "output_type": "stream",
     "text": [
      "1.75\n"
     ]
    }
   ],
   "source": [
    "print(height)"
   ]
  },
  {
   "cell_type": "markdown",
   "id": "f30e2225",
   "metadata": {},
   "source": [
    "<a name='4-1'></a>\n",
    "\n",
    "## 4.1 Naming Conventions\n",
    "When naming variables in Python, there are some rules and best practices that make your code easier to read and understand\n",
    "\n",
    "Rules for Naming Variables\n",
    "\n",
    "    1. Must start with a letter or an underscore (_): You cannot start a variable name with a number.\n",
    "        Correct: age, _name\n",
    "        Incorrect: 2nd_place\n",
    "\n",
    "    2. Can only contain letters, numbers, and underscores: Spaces and special characters are not allowed.\n",
    "        Correct: my_variable, user_age\n",
    "        Incorrect: my variable, user-age!\n",
    "\n",
    "    3. Case-sensitive: name and Name are considered two different variables in Python."
   ]
  },
  {
   "cell_type": "code",
   "execution_count": 17,
   "id": "1eca8792",
   "metadata": {},
   "outputs": [
    {
     "name": "stdout",
     "output_type": "stream",
     "text": [
      "Hart\n",
      "Bassey\n"
     ]
    }
   ],
   "source": [
    "name = \"Hart\"\n",
    "Name = \"Bassey\"\n",
    "print(name)  # Output: Hart\n",
    "print(Name)  # Output: Bassey"
   ]
  },
  {
   "cell_type": "markdown",
   "id": "9e00a327",
   "metadata": {},
   "source": [
    "Best Practices for Naming Variables\n",
    "\n",
    "    1. Use descriptive names: Choose names that describe the data they hold. Instead of x, use age or user_name.\n",
    "\n",
    "    2. Use snake_case for variable names: In Python, it’s common to use all lowercase letters with underscores between words Example: user_name, total_score, is_active\n",
    "\n",
    "    3. Avoid using Python keywords: Words like print, for, if, and while are reserved for Python commands. Avoid using these as variable names, as it can cause errors."
   ]
  },
  {
   "cell_type": "markdown",
   "id": "39224b96",
   "metadata": {},
   "source": [
    "<a name='5'></a>\n",
    "\n",
    "# 5. Basic Operators\n",
    "\n",
    "Operators allow us to perform operations on values, like math calculations or comparing two values. We have three main types of operators: Arithmetic, Comparison, and Logical."
   ]
  },
  {
   "cell_type": "markdown",
   "id": "7fa191c4",
   "metadata": {},
   "source": [
    "<a name='5-1'></a>\n",
    "\n",
    "### 5.1 Arithmetic Operators\n",
    "These operators are used for basic math operations"
   ]
  },
  {
   "cell_type": "markdown",
   "id": "102a5a80",
   "metadata": {},
   "source": [
    "<h4>Addition (+): Adds two values"
   ]
  },
  {
   "cell_type": "code",
   "execution_count": 20,
   "id": "f9b7a8dd",
   "metadata": {},
   "outputs": [
    {
     "name": "stdout",
     "output_type": "stream",
     "text": [
      "10\n"
     ]
    }
   ],
   "source": [
    "result = 5 + 5\n",
    "print(result)"
   ]
  },
  {
   "cell_type": "markdown",
   "id": "4482caa4",
   "metadata": {},
   "source": [
    "<h4>Subtraction (-): Subtracts the second value from the first"
   ]
  },
  {
   "cell_type": "code",
   "execution_count": 22,
   "id": "ad154a8a",
   "metadata": {},
   "outputs": [
    {
     "name": "stdout",
     "output_type": "stream",
     "text": [
      "11\n"
     ]
    }
   ],
   "source": [
    "result = 15 - 4\n",
    "print(result)"
   ]
  },
  {
   "cell_type": "markdown",
   "id": "37e1e959",
   "metadata": {},
   "source": [
    "<h4>Multiplication (*): Multiplies two values"
   ]
  },
  {
   "cell_type": "code",
   "execution_count": 23,
   "id": "dd1cf24c",
   "metadata": {},
   "outputs": [
    {
     "name": "stdout",
     "output_type": "stream",
     "text": [
      "42\n"
     ]
    }
   ],
   "source": [
    "result = 6 * 7\n",
    "print(result)"
   ]
  },
  {
   "cell_type": "markdown",
   "id": "aa8b6cbf",
   "metadata": {},
   "source": [
    "<h4>Division (/): Divides the first value by the second. Returns a float"
   ]
  },
  {
   "cell_type": "code",
   "execution_count": 24,
   "id": "4a5677c0",
   "metadata": {},
   "outputs": [
    {
     "name": "stdout",
     "output_type": "stream",
     "text": [
      "7.5\n"
     ]
    }
   ],
   "source": [
    "result = 15 / 2\n",
    "print(result)"
   ]
  },
  {
   "cell_type": "markdown",
   "id": "e68d3a53",
   "metadata": {},
   "source": [
    "<h4>Floor Division (//): Divides and returns the whole number result, dropping the decimal."
   ]
  },
  {
   "cell_type": "code",
   "execution_count": 25,
   "id": "9705c28d",
   "metadata": {},
   "outputs": [
    {
     "name": "stdout",
     "output_type": "stream",
     "text": [
      "7\n"
     ]
    }
   ],
   "source": [
    "result = 15 // 2\n",
    "print(result)"
   ]
  },
  {
   "cell_type": "markdown",
   "id": "2897f15a",
   "metadata": {},
   "source": [
    "<h4>Modulus (%): Returns the remainder of the division."
   ]
  },
  {
   "cell_type": "code",
   "execution_count": 26,
   "id": "af1cfadc",
   "metadata": {},
   "outputs": [
    {
     "name": "stdout",
     "output_type": "stream",
     "text": [
      "3\n"
     ]
    }
   ],
   "source": [
    "remainder = 15 % 4\n",
    "print(remainder)"
   ]
  },
  {
   "cell_type": "markdown",
   "id": "8c1983fe",
   "metadata": {},
   "source": [
    "<h4>Exponentiation (**): Raises the first value to the power of the second."
   ]
  },
  {
   "cell_type": "code",
   "execution_count": 27,
   "id": "16b0be6c",
   "metadata": {},
   "outputs": [
    {
     "name": "stdout",
     "output_type": "stream",
     "text": [
      "8\n"
     ]
    }
   ],
   "source": [
    "result = 2 ** 3\n",
    "print(result)"
   ]
  },
  {
   "cell_type": "markdown",
   "id": "a1172766",
   "metadata": {},
   "source": [
    "<a name='5-2'></a>\n",
    "\n",
    "## 5.2 Comparison Operators\n",
    "Comparison operators in Python are used to compare values. They return a boolean (True or False) value depending on whether the comparison is true or false."
   ]
  },
  {
   "cell_type": "markdown",
   "id": "edf09b68",
   "metadata": {},
   "source": [
    "<h4>Equal to (==): Checks if two values are equal."
   ]
  },
  {
   "cell_type": "code",
   "execution_count": 28,
   "id": "f18e5357",
   "metadata": {},
   "outputs": [
    {
     "data": {
      "text/plain": [
       "True"
      ]
     },
     "execution_count": 28,
     "metadata": {},
     "output_type": "execute_result"
    }
   ],
   "source": [
    "5 == 5\n"
   ]
  },
  {
   "cell_type": "markdown",
   "id": "16afb272",
   "metadata": {},
   "source": [
    "<h4>Not equal to (!=): Checks if two values are not equal"
   ]
  },
  {
   "cell_type": "code",
   "execution_count": 29,
   "id": "2a119099",
   "metadata": {},
   "outputs": [
    {
     "data": {
      "text/plain": [
       "True"
      ]
     },
     "execution_count": 29,
     "metadata": {},
     "output_type": "execute_result"
    }
   ],
   "source": [
    "5 != 3"
   ]
  },
  {
   "cell_type": "markdown",
   "id": "ad4d26f4",
   "metadata": {},
   "source": [
    "<h4>Greater than (>): Checks if the first value is greater than the second."
   ]
  },
  {
   "cell_type": "code",
   "execution_count": 32,
   "id": "e32d97d6",
   "metadata": {},
   "outputs": [
    {
     "data": {
      "text/plain": [
       "True"
      ]
     },
     "execution_count": 32,
     "metadata": {},
     "output_type": "execute_result"
    }
   ],
   "source": [
    "10 > 5"
   ]
  },
  {
   "cell_type": "markdown",
   "id": "3fa6aeb5",
   "metadata": {},
   "source": [
    "<h4>Less than (<): Checks if the first value is less than the second."
   ]
  },
  {
   "cell_type": "code",
   "execution_count": 33,
   "id": "41c19c6d",
   "metadata": {},
   "outputs": [
    {
     "data": {
      "text/plain": [
       "True"
      ]
     },
     "execution_count": 33,
     "metadata": {},
     "output_type": "execute_result"
    }
   ],
   "source": [
    "5 < 10"
   ]
  },
  {
   "cell_type": "markdown",
   "id": "883dd95c",
   "metadata": {},
   "source": [
    "<h4>Greater than or equal to (>=): Checks if the first value is greater than or equal to the second."
   ]
  },
  {
   "cell_type": "code",
   "execution_count": 34,
   "id": "85e5d22c",
   "metadata": {},
   "outputs": [
    {
     "data": {
      "text/plain": [
       "True"
      ]
     },
     "execution_count": 34,
     "metadata": {},
     "output_type": "execute_result"
    }
   ],
   "source": [
    "5 >= 5"
   ]
  },
  {
   "cell_type": "markdown",
   "id": "2b950cfa",
   "metadata": {},
   "source": [
    "<h4>Less than or equal to (<=): Checks if the first value is less than or equal to the second."
   ]
  },
  {
   "cell_type": "code",
   "execution_count": 35,
   "id": "f9f3b0fa",
   "metadata": {},
   "outputs": [
    {
     "data": {
      "text/plain": [
       "True"
      ]
     },
     "execution_count": 35,
     "metadata": {},
     "output_type": "execute_result"
    }
   ],
   "source": [
    "3 <= 5"
   ]
  },
  {
   "cell_type": "markdown",
   "id": "d1a32e70",
   "metadata": {},
   "source": [
    "<a name='5-3'></a>\n",
    "\n",
    "## 5.3 Logical Operators\n",
    "\n",
    "They're used to combine multiple conditions and determine whether a statement is true or false.\n",
    "Python has three logical operators"
   ]
  },
  {
   "cell_type": "markdown",
   "id": "5c47ccc8",
   "metadata": {},
   "source": [
    "1. \"and\"  Returns True if both conditions are true"
   ]
  },
  {
   "cell_type": "code",
   "execution_count": 36,
   "id": "cb258fd1",
   "metadata": {},
   "outputs": [
    {
     "data": {
      "text/plain": [
       "True"
      ]
     },
     "execution_count": 36,
     "metadata": {},
     "output_type": "execute_result"
    }
   ],
   "source": [
    "(5 > 3) and (10 > 5)"
   ]
  },
  {
   "cell_type": "markdown",
   "id": "82e7df17",
   "metadata": {},
   "source": [
    "2. \"or\"  Returns True if at least one condition is true"
   ]
  },
  {
   "cell_type": "code",
   "execution_count": 37,
   "id": "a84ed22d",
   "metadata": {},
   "outputs": [
    {
     "data": {
      "text/plain": [
       "True"
      ]
     },
     "execution_count": 37,
     "metadata": {},
     "output_type": "execute_result"
    }
   ],
   "source": [
    "(5 > 3) or (10 < 5)"
   ]
  },
  {
   "cell_type": "markdown",
   "id": "fcef0942",
   "metadata": {},
   "source": [
    "3. \"not\" Reverses the result; returns True if the condition is false, and vice versa"
   ]
  },
  {
   "cell_type": "code",
   "execution_count": 38,
   "id": "4704e35c",
   "metadata": {},
   "outputs": [
    {
     "data": {
      "text/plain": [
       "False"
      ]
     },
     "execution_count": 38,
     "metadata": {},
     "output_type": "execute_result"
    }
   ],
   "source": [
    "not (5 > 3)"
   ]
  },
  {
   "cell_type": "markdown",
   "id": "686d2b93",
   "metadata": {},
   "source": [
    "<a name='6'></a>\n",
    "\n",
    "# 6. Control Flow\n",
    "Control flow in Python refers to the order in which individual statements or instructions are executed or evaluated. It helps define the logic and structure of a program, allowing you to implement decisions, repetition, and error handling."
   ]
  },
  {
   "cell_type": "markdown",
   "id": "7ff263e5",
   "metadata": {},
   "source": [
    "<a name='6-1'></a>\n",
    "\n",
    "## 6.1 Conditional Statements\n",
    "\n",
    "Conditional statements allow a program to execute specific blocks of code based on certain conditions. Python uses \"if\", \"elif\" (short for “else if”), and \"else\" to set up these conditions."
   ]
  },
  {
   "cell_type": "markdown",
   "id": "b4785e61",
   "metadata": {},
   "source": [
    "### If Statement\n",
    "\n",
    "The if statement checks a condition. If the condition is True, it executes the code block under it."
   ]
  },
  {
   "cell_type": "code",
   "execution_count": 1,
   "id": "b4513123",
   "metadata": {},
   "outputs": [
    {
     "name": "stdout",
     "output_type": "stream",
     "text": [
      "You are eligible to vote.\n"
     ]
    }
   ],
   "source": [
    "age = 18\n",
    "if age >= 18:\n",
    "    print(\"You are eligible to vote.\")"
   ]
  },
  {
   "cell_type": "markdown",
   "id": "0ece3915",
   "metadata": {},
   "source": [
    "### Elif Statement\n",
    "\n",
    "The elif (else if) statement checks another condition if the previous if condition was False."
   ]
  },
  {
   "cell_type": "code",
   "execution_count": 2,
   "id": "e3acfaaa",
   "metadata": {},
   "outputs": [
    {
     "name": "stdout",
     "output_type": "stream",
     "text": [
      "Grade: B\n"
     ]
    }
   ],
   "source": [
    "score = 85\n",
    "if score >= 90:\n",
    "    print(\"Grade: A\")\n",
    "elif score >= 80:\n",
    "    print(\"Grade: B\")"
   ]
  },
  {
   "cell_type": "markdown",
   "id": "fb88560b",
   "metadata": {},
   "source": [
    "### Else Statement\n",
    "\n",
    "The else statement provides a default action if all previous conditions are False."
   ]
  },
  {
   "cell_type": "code",
   "execution_count": 3,
   "id": "e849fdc3",
   "metadata": {},
   "outputs": [
    {
     "name": "stdout",
     "output_type": "stream",
     "text": [
      "Grade: C\n"
     ]
    }
   ],
   "source": [
    "score = 72\n",
    "if score >= 90:\n",
    "    print(\"Grade: A\")\n",
    "elif score >= 80:\n",
    "    print(\"Grade: B\")\n",
    "else:\n",
    "    print(\"Grade: C\")"
   ]
  },
  {
   "cell_type": "markdown",
   "id": "c0a5d06d",
   "metadata": {},
   "source": [
    "<a name='6-2'></a>\n",
    "\n",
    "## 6.2 Loops\n",
    "\n",
    "Loops allow us to repeat a block of code multiple times. Python has two main types of loops: \"for\" and \"while\"\n",
    "\n",
    "Looping through a range: range() generates a sequence of numbers."
   ]
  },
  {
   "cell_type": "code",
   "execution_count": 4,
   "id": "0c7aa807",
   "metadata": {},
   "outputs": [
    {
     "name": "stdout",
     "output_type": "stream",
     "text": [
      "0\n",
      "1\n",
      "2\n",
      "3\n",
      "4\n"
     ]
    }
   ],
   "source": [
    "for i in range(5):\n",
    "    print(i)"
   ]
  },
  {
   "cell_type": "markdown",
   "id": "e3268eb3",
   "metadata": {},
   "source": [
    "Looping through a list"
   ]
  },
  {
   "cell_type": "code",
   "execution_count": 5,
   "id": "d6c65c6b",
   "metadata": {},
   "outputs": [
    {
     "name": "stdout",
     "output_type": "stream",
     "text": [
      "apple\n",
      "banana\n",
      "cherry\n"
     ]
    }
   ],
   "source": [
    "#example 1\n",
    "\n",
    "fruits = [\"apple\", \"banana\", \"cherry\"]\n",
    "for fruit in fruits:\n",
    "    print(fruit)"
   ]
  },
  {
   "cell_type": "code",
   "execution_count": 2,
   "id": "e933e66d",
   "metadata": {},
   "outputs": [
    {
     "name": "stdout",
     "output_type": "stream",
     "text": [
      "The sum is: 55\n"
     ]
    }
   ],
   "source": [
    "#example 2\n",
    "\n",
    "total = 0\n",
    "for num in range(1, 11):\n",
    "    total += num  # Adds each number in the range to total\n",
    "print(\"The sum is:\", total)"
   ]
  },
  {
   "cell_type": "code",
   "execution_count": 3,
   "id": "3eba516b",
   "metadata": {},
   "outputs": [
    {
     "name": "stdout",
     "output_type": "stream",
     "text": [
      "P\n",
      "y\n",
      "t\n",
      "h\n",
      "o\n",
      "n\n"
     ]
    }
   ],
   "source": [
    "#example 3\n",
    "\n",
    "name = \"Python\"\n",
    "for letter in name:\n",
    "    print(letter)"
   ]
  },
  {
   "cell_type": "markdown",
   "id": "293d3320",
   "metadata": {},
   "source": [
    "While Loops\n",
    "\n",
    "A while loop repeats as long as a condition remains True. Be careful with while loops to avoid infinite loops (loops that never end)."
   ]
  },
  {
   "cell_type": "code",
   "execution_count": 6,
   "id": "be2928ba",
   "metadata": {},
   "outputs": [
    {
     "name": "stdout",
     "output_type": "stream",
     "text": [
      "1\n",
      "2\n",
      "3\n",
      "4\n",
      "5\n"
     ]
    }
   ],
   "source": [
    "count = 1\n",
    "while count <= 5:\n",
    "    print(count)\n",
    "    count += 1  # Increment count to avoid an infinite loop"
   ]
  },
  {
   "cell_type": "markdown",
   "id": "2f13fa70",
   "metadata": {},
   "source": [
    "<a name='7'></a>\n",
    "\n",
    "# 7 Collections: Lists, Tuples, Dictionaries, Sets\n",
    "Collections in Python are like different types of containers for storing data. Each type of collection has its own properties and behaviors. common collections in Python:\n",
    "1. List\n",
    "2. Tuple\n",
    "3. Dictionary \n",
    "4. set"
   ]
  },
  {
   "cell_type": "markdown",
   "id": "73532ff3",
   "metadata": {},
   "source": [
    "<a name='7-1'></a>\n",
    "\n",
    "### 7.1 LIst\n",
    "Lists are one of the most common and versatile data structures in Python. Lists can store different types of items (e.g., numbers, strings, other lists) and support various methods for adding, removing, and modifying elements, making them a great tool for storing and organizing data\n",
    "\n",
    "### Creating a List\n",
    "Lists are created using square brackets ( [ ] ), and elements are separated by commas."
   ]
  },
  {
   "cell_type": "code",
   "execution_count": 31,
   "id": "68b2a46c",
   "metadata": {},
   "outputs": [
    {
     "name": "stdout",
     "output_type": "stream",
     "text": [
      "['Hart', 'Joseph ', 'onyi']\n"
     ]
    }
   ],
   "source": [
    "names = [\"Hart\", \"Joseph \", \"onyi\"]\n",
    "numbers = [1, 2, 3, 4, 5]\n",
    "mixed = [\"hello\", 42, 3.14, True]\n",
    "print(names)"
   ]
  },
  {
   "cell_type": "code",
   "execution_count": 29,
   "id": "a3898314",
   "metadata": {},
   "outputs": [
    {
     "name": "stdout",
     "output_type": "stream",
     "text": [
      "[1, 2, 3, 4, 5]\n"
     ]
    }
   ],
   "source": [
    "print(numbers)"
   ]
  },
  {
   "cell_type": "code",
   "execution_count": 30,
   "id": "f1e7cdc4",
   "metadata": {},
   "outputs": [
    {
     "name": "stdout",
     "output_type": "stream",
     "text": [
      "['hello', 42, 3.14, True]\n"
     ]
    }
   ],
   "source": [
    "print(mixed)"
   ]
  },
  {
   "cell_type": "markdown",
   "id": "ccb71d53",
   "metadata": {},
   "source": [
    "### Accessing elements in a list\n",
    "In Python, you can access elements in a list by using indexing, which allows you to retrieve items based on their position within the list.\n",
    "\n",
    "* Positive indices start at 0 and count from left to right. For example, the first item in a list is at index 0, the second at index 1, and so on.\n",
    "\n",
    "* Negative indices start from the end of the list and count backward. The last item is at index -1, the second-to-last at -2, and so forth."
   ]
  },
  {
   "cell_type": "code",
   "execution_count": 7,
   "id": "f75033ac",
   "metadata": {},
   "outputs": [
    {
     "name": "stdout",
     "output_type": "stream",
     "text": [
      "Hart\n",
      "2\n",
      "3.14\n"
     ]
    }
   ],
   "source": [
    "# positive indexing\n",
    "print(names[0])\n",
    "print(numbers[1])\n",
    "print(mixed[2])"
   ]
  },
  {
   "cell_type": "code",
   "execution_count": 8,
   "id": "3ac0e6fc",
   "metadata": {},
   "outputs": [
    {
     "name": "stdout",
     "output_type": "stream",
     "text": [
      "onyi\n",
      "4\n",
      "42\n"
     ]
    }
   ],
   "source": [
    "# Nagative indexing\n",
    "print(names[-1])\n",
    "print(numbers[-2])\n",
    "print(mixed[-3])"
   ]
  },
  {
   "cell_type": "markdown",
   "id": "7549966d",
   "metadata": {},
   "source": [
    "### Modifying a List\n",
    "Lists are mutable, meaning that you can add, remove, or change the items in a list."
   ]
  },
  {
   "cell_type": "code",
   "execution_count": 1,
   "id": "12958c2c",
   "metadata": {},
   "outputs": [
    {
     "name": "stdout",
     "output_type": "stream",
     "text": [
      "['Hart', 'miracle', 'onyi']\n"
     ]
    }
   ],
   "source": [
    "names = [\"Hart\", \"Joseph \", \"onyi\"]\n",
    "names[1] = \"miracle\" # Replace 'joseph' at index position 1 with 'miracle'\n",
    "print(names)"
   ]
  },
  {
   "cell_type": "markdown",
   "id": "050c8701",
   "metadata": {},
   "source": [
    "####  Adding Elements to a List\n",
    "In Python, you can add elements to a list using append() or insert() depending on where you want the new element to be added.\n",
    "\n",
    "    append(): Adds an element to the end of the list.\n",
    "    insert(): Adds an element at a specified index."
   ]
  },
  {
   "cell_type": "markdown",
   "id": "3e325a05",
   "metadata": {},
   "source": [
    "append(): This is useful when you simply want to add an item to the list without worrying about its index position."
   ]
  },
  {
   "cell_type": "code",
   "execution_count": 2,
   "id": "66d32452",
   "metadata": {},
   "outputs": [
    {
     "name": "stdout",
     "output_type": "stream",
     "text": [
      "['Hart', 'Joseph ', 'onyi', 'miracle']\n"
     ]
    }
   ],
   "source": [
    "names = [\"Hart\", \"Joseph \", \"onyi\"]\n",
    "names.append(\"miracle\")\n",
    "print(names)"
   ]
  },
  {
   "cell_type": "markdown",
   "id": "8fc087c6",
   "metadata": {},
   "source": [
    "insert(): This is useful when you want to add an element at a specific index in the list"
   ]
  },
  {
   "cell_type": "code",
   "execution_count": 3,
   "id": "3f3aa39c",
   "metadata": {},
   "outputs": [
    {
     "name": "stdout",
     "output_type": "stream",
     "text": [
      "['miracle', 'Hart', 'Joseph ', 'onyi']\n"
     ]
    }
   ],
   "source": [
    "names = [\"Hart\", \"Joseph \", \"onyi\"]\n",
    "names.insert(0, \"miracle\") # Adds 'miracle' at index 0\n",
    "print(names)"
   ]
  },
  {
   "cell_type": "markdown",
   "id": "c17034bf",
   "metadata": {},
   "source": [
    "#### Removing Elements from a List\n",
    "Python has different methods to remove elements from a list"
   ]
  },
  {
   "cell_type": "markdown",
   "id": "4bd94071",
   "metadata": {},
   "source": [
    "1. remove()\n",
    "\n",
    "The remove(): method removes the first occurrence of a specified value in the list. If the specified value is not in the list, it raises an Error"
   ]
  },
  {
   "cell_type": "code",
   "execution_count": 5,
   "id": "e00eaca3",
   "metadata": {},
   "outputs": [
    {
     "name": "stdout",
     "output_type": "stream",
     "text": [
      "['Joseph ', 'onyi', 'miracle']\n"
     ]
    }
   ],
   "source": [
    "names = [\"Hart\", \"Joseph \", \"onyi\", \"miracle\"]\n",
    "names.remove(\"Hart\")\n",
    "print(names)"
   ]
  },
  {
   "cell_type": "markdown",
   "id": "7976a9e2",
   "metadata": {},
   "source": [
    "2. pop()\n",
    "\n",
    "The pop() method removes and returns the item at a specified index. If no index is specified, it removes the last item by default. The pop() method can remove an item and store it in a variable at the same time."
   ]
  },
  {
   "cell_type": "code",
   "execution_count": 6,
   "id": "93afb86b",
   "metadata": {},
   "outputs": [
    {
     "name": "stdout",
     "output_type": "stream",
     "text": [
      "['Hart', 'Joseph ', 'onyi']\n",
      "miracle\n"
     ]
    }
   ],
   "source": [
    "# Remove and return the last item\n",
    "names = [\"Hart\", \"Joseph \", \"onyi\", \"miracle\"]\n",
    "last_name = names.pop() # Remove and store last item in a variable \n",
    "print(names)\n",
    "print(last_name)"
   ]
  },
  {
   "cell_type": "code",
   "execution_count": 7,
   "id": "b3e1d08e",
   "metadata": {},
   "outputs": [
    {
     "name": "stdout",
     "output_type": "stream",
     "text": [
      "['Hart', 'onyi', 'miracle']\n",
      "Joseph \n"
     ]
    }
   ],
   "source": [
    "# Remove and return an item at a specific index\n",
    "names = [\"Hart\", \"Joseph \", \"onyi\", \"miracle\"]\n",
    "second_name = names.pop(1) #Remove and store in a variable \n",
    "print(names)\n",
    "print(second_name)"
   ]
  },
  {
   "cell_type": "markdown",
   "id": "c5db8052",
   "metadata": {},
   "source": [
    "3. clear()\n",
    "\n",
    "The clear() method removes all elements from the list, leaving it empty."
   ]
  },
  {
   "cell_type": "code",
   "execution_count": 8,
   "id": "893bc219",
   "metadata": {},
   "outputs": [
    {
     "name": "stdout",
     "output_type": "stream",
     "text": [
      "[]\n"
     ]
    }
   ],
   "source": [
    "names = [\"Hart\", \"Joseph \", \"onyi\", \"miracle\"]\n",
    "names.clear()\n",
    "print(names)"
   ]
  },
  {
   "cell_type": "markdown",
   "id": "989e04ce",
   "metadata": {},
   "source": [
    "## List Operations\n",
    "List operations refer to the various methods and actions you can perform on lists in Python. These operations allow you to manipulate the data in your lists, making them more flexible and powerful. List operations can include anything from adding or removing elements to sorting, searching, and modifying the list"
   ]
  },
  {
   "cell_type": "markdown",
   "id": "baa42822",
   "metadata": {},
   "source": [
    "* Concatenation\n",
    "\n",
    "Lists can be combined using the + operator, which creates a new list containing elements from both lists."
   ]
  },
  {
   "cell_type": "code",
   "execution_count": 9,
   "id": "22b5491c",
   "metadata": {},
   "outputs": [
    {
     "name": "stdout",
     "output_type": "stream",
     "text": [
      "['Hart', 'Joseph ', 'onyi', 'miracle', 1, 2, 3, 4, 5]\n"
     ]
    }
   ],
   "source": [
    "names = [\"Hart\", \"Joseph \", \"onyi\", \"miracle\"]\n",
    "numbers = [1, 2, 3, 4, 5]\n",
    "combine_list = names + numbers # Adding two list and storing it in a variable \n",
    "print(combine_list)"
   ]
  },
  {
   "cell_type": "markdown",
   "id": "588710e7",
   "metadata": {},
   "source": [
    "* Slicing\n",
    "\n",
    "Slicing allows you to select a subset of elements from a sequence. It takes the form list [start : stop : step].\n",
    "    The start and stop indices specify the beginning and end of the slice, respectively. The step parameter is optional and indicates how to move through the sequence. The default step size is 1, which means it moves one item at a time."
   ]
  },
  {
   "cell_type": "code",
   "execution_count": 18,
   "id": "c78240e0",
   "metadata": {},
   "outputs": [],
   "source": [
    "combine_list = [\"Hart\", \"Joseph \", \"onyi\", \"miracle\", 1, 2, 3, 4, 5]"
   ]
  },
  {
   "cell_type": "code",
   "execution_count": 22,
   "id": "82b473d7",
   "metadata": {},
   "outputs": [
    {
     "name": "stdout",
     "output_type": "stream",
     "text": [
      "['Joseph ', 'onyi', 'miracle']\n"
     ]
    }
   ],
   "source": [
    "print(combine_list[1:4])  # Start at index 1 and end at index 4 (not including 4)"
   ]
  },
  {
   "cell_type": "code",
   "execution_count": 19,
   "id": "a8dd1299",
   "metadata": {},
   "outputs": [
    {
     "name": "stdout",
     "output_type": "stream",
     "text": [
      "['Hart', 'Joseph ', 'onyi']\n"
     ]
    }
   ],
   "source": [
    "print(combine_list[:3])   # Start at the beginning and go up to (but not including) index 3"
   ]
  },
  {
   "cell_type": "code",
   "execution_count": 20,
   "id": "e13bc2e1",
   "metadata": {},
   "outputs": [
    {
     "name": "stdout",
     "output_type": "stream",
     "text": [
      "['Hart', 'onyi', 1, 3, 5]\n"
     ]
    }
   ],
   "source": [
    "print(combine_list[::2])  # Select every second element from the list"
   ]
  },
  {
   "cell_type": "code",
   "execution_count": 21,
   "id": "3838f241",
   "metadata": {},
   "outputs": [
    {
     "name": "stdout",
     "output_type": "stream",
     "text": [
      "[5, 4, 3, 2, 1, 'miracle', 'onyi', 'Joseph ', 'Hart']\n"
     ]
    }
   ],
   "source": [
    "print(combine_list[::-1]) # print the whole list in reverse order "
   ]
  },
  {
   "cell_type": "markdown",
   "id": "3751989c",
   "metadata": {},
   "source": [
    "* Membership\n",
    "\n",
    "You can use the  \"in\"  and  \"not in\"  operators to check if an item exists in a list, it will return boolean True or False "
   ]
  },
  {
   "cell_type": "code",
   "execution_count": 23,
   "id": "b544ab6d",
   "metadata": {},
   "outputs": [
    {
     "name": "stdout",
     "output_type": "stream",
     "text": [
      "True\n"
     ]
    }
   ],
   "source": [
    "combine_list = [\"Hart\", \"Joseph \", \"onyi\", \"miracle\", 1, 2, 3, 4, 5]\n",
    "\n",
    "print(3 in combine_list)"
   ]
  },
  {
   "cell_type": "code",
   "execution_count": 24,
   "id": "6a8d205e",
   "metadata": {},
   "outputs": [
    {
     "name": "stdout",
     "output_type": "stream",
     "text": [
      "True\n"
     ]
    }
   ],
   "source": [
    "print(10 not in combine_list)"
   ]
  },
  {
   "cell_type": "code",
   "execution_count": 25,
   "id": "6d959a67",
   "metadata": {},
   "outputs": [
    {
     "name": "stdout",
     "output_type": "stream",
     "text": [
      "False\n"
     ]
    }
   ],
   "source": [
    "print(\"prince\" in combine_list)"
   ]
  },
  {
   "cell_type": "markdown",
   "id": "9d6e7b44",
   "metadata": {},
   "source": [
    "* Length\n",
    " \n",
    "The  len()  function returns the number of items in the list"
   ]
  },
  {
   "cell_type": "code",
   "execution_count": 12,
   "id": "932f78f2",
   "metadata": {},
   "outputs": [
    {
     "name": "stdout",
     "output_type": "stream",
     "text": [
      "9\n"
     ]
    }
   ],
   "source": [
    "print(len(combine_list)) "
   ]
  },
  {
   "cell_type": "markdown",
   "id": "b8dc1f27",
   "metadata": {},
   "source": [
    "* Minimum and Maximum\n",
    "\n",
    "The min() and max() functions return the smallest and largest elements in a list (only works if the list has comparable types, like all numbers)."
   ]
  },
  {
   "cell_type": "code",
   "execution_count": 26,
   "id": "9133ce03",
   "metadata": {},
   "outputs": [
    {
     "name": "stdout",
     "output_type": "stream",
     "text": [
      "1\n",
      "98\n"
     ]
    }
   ],
   "source": [
    "number = [45, 47, 78, 87, 1, 78, 98, 65, 3, 2]\n",
    "print(min(number))"
   ]
  },
  {
   "cell_type": "code",
   "execution_count": 27,
   "id": "3b96966d",
   "metadata": {},
   "outputs": [
    {
     "name": "stdout",
     "output_type": "stream",
     "text": [
      "98\n"
     ]
    }
   ],
   "source": [
    "print(max(number))"
   ]
  },
  {
   "cell_type": "markdown",
   "id": "238ee6e9",
   "metadata": {},
   "source": [
    "* Sum\n",
    "\n",
    "The sum() function returns the sum of all numerical elements in a list."
   ]
  },
  {
   "cell_type": "code",
   "execution_count": 15,
   "id": "be9f48c0",
   "metadata": {},
   "outputs": [
    {
     "name": "stdout",
     "output_type": "stream",
     "text": [
      "504\n"
     ]
    }
   ],
   "source": [
    "number = [45, 47, 78, 87, 1, 78, 98, 65, 3, 2]\n",
    "print(sum(number))"
   ]
  },
  {
   "cell_type": "markdown",
   "id": "a88d9477",
   "metadata": {},
   "source": [
    "* Sorting\n",
    "\n",
    "You can sort a list using the sort() method or the sorted() function."
   ]
  },
  {
   "cell_type": "markdown",
   "id": "696c3988",
   "metadata": {},
   "source": [
    "sort(): Sorts the list in place and doesn’t return a new list."
   ]
  },
  {
   "cell_type": "code",
   "execution_count": 16,
   "id": "fcf87dbf",
   "metadata": {},
   "outputs": [
    {
     "name": "stdout",
     "output_type": "stream",
     "text": [
      "[1, 2, 3, 45, 47, 65, 78, 78, 87, 98]\n"
     ]
    }
   ],
   "source": [
    "number.sort()\n",
    "print(number)"
   ]
  },
  {
   "cell_type": "markdown",
   "id": "8f963fa6",
   "metadata": {},
   "source": [
    "sorted(): Returns a new sorted list, leaving the original list unchanged."
   ]
  },
  {
   "cell_type": "code",
   "execution_count": 18,
   "id": "3902fec1",
   "metadata": {},
   "outputs": [
    {
     "name": "stdout",
     "output_type": "stream",
     "text": [
      "[98, 87, 78, 78, 65, 47, 45, 3, 2, 1]\n"
     ]
    }
   ],
   "source": [
    "sorted_number = sorted(number, reverse=True) # reverse=True means sort from largest to smallest \n",
    "print(sorted_number)"
   ]
  },
  {
   "cell_type": "markdown",
   "id": "e41e6d13",
   "metadata": {},
   "source": [
    "<a name='7-2'></a>\n",
    "\n",
    "### 7.2 Tuples\n",
    "Tuples are like lists, but they're immutable. This means that once you create a tuple, you can't change the items in it. They're like sealed boxes, once they're packed, they can't be unpacked and repacked. Tuples are commonly used for data that shouldn’t be changed, like geographic coordinates etc."
   ]
  },
  {
   "cell_type": "markdown",
   "id": "4215064f",
   "metadata": {},
   "source": [
    "### Creating a Tuple\n",
    "\n",
    "Tuples are created using parentheses ( () )."
   ]
  },
  {
   "cell_type": "code",
   "execution_count": 20,
   "id": "3ad83ea3",
   "metadata": {},
   "outputs": [
    {
     "name": "stdout",
     "output_type": "stream",
     "text": [
      "(10, 23)\n"
     ]
    }
   ],
   "source": [
    "tuple1 = (10, 23)\n",
    "print(tuple1)"
   ]
  },
  {
   "cell_type": "markdown",
   "id": "fcc989a2",
   "metadata": {},
   "source": [
    "* Accessing Elements\n",
    "\n",
    "Elements in a tuple can be accessed by index just like in a list."
   ]
  },
  {
   "cell_type": "code",
   "execution_count": 21,
   "id": "1c6dc906",
   "metadata": {},
   "outputs": [
    {
     "name": "stdout",
     "output_type": "stream",
     "text": [
      "10\n"
     ]
    }
   ],
   "source": [
    "print(tuple1[0])"
   ]
  },
  {
   "cell_type": "markdown",
   "id": "1f3c300d",
   "metadata": {},
   "source": [
    "* Immutability\n",
    "\n",
    "Once created, you cannot add, remove, or change items in a tuple."
   ]
  },
  {
   "cell_type": "code",
   "execution_count": 22,
   "id": "3cc6453a",
   "metadata": {},
   "outputs": [
    {
     "ename": "TypeError",
     "evalue": "'tuple' object does not support item assignment",
     "output_type": "error",
     "traceback": [
      "\u001b[1;31m---------------------------------------------------------------------------\u001b[0m",
      "\u001b[1;31mTypeError\u001b[0m                                 Traceback (most recent call last)",
      "Cell \u001b[1;32mIn[22], line 2\u001b[0m\n\u001b[0;32m      1\u001b[0m \u001b[38;5;66;03m# This will raise an error\u001b[39;00m\n\u001b[1;32m----> 2\u001b[0m tuple1[\u001b[38;5;241m0\u001b[39m] \u001b[38;5;241m=\u001b[39m \u001b[38;5;241m15\u001b[39m\n",
      "\u001b[1;31mTypeError\u001b[0m: 'tuple' object does not support item assignment"
     ]
    }
   ],
   "source": [
    "# This will raise an error\n",
    "tuple1[0] = 15"
   ]
  },
  {
   "cell_type": "markdown",
   "id": "5bd6d792",
   "metadata": {},
   "source": [
    "<a name='7-3'></a>\n",
    "\n",
    "### 7.3 Dictionaries\n",
    "\n",
    "A dictionary is a collection of key-value pairs. Unlike lists or tuples, dictionaries are unordered. They are useful for storing data that has a meaningful label for each value, like names and ages or usernames and email addresses. Dictionaries are incredibly useful for mapping information and handling data that requires a label."
   ]
  },
  {
   "cell_type": "markdown",
   "id": "4d48a92d",
   "metadata": {},
   "source": [
    "* Creating a Dictionary\n",
    "\n",
    "Dictionaries are created using curly braces ( {} ) with each pair defined as key: value"
   ]
  },
  {
   "cell_type": "code",
   "execution_count": 26,
   "id": "cbbac34e",
   "metadata": {},
   "outputs": [
    {
     "name": "stdout",
     "output_type": "stream",
     "text": [
      "{'name': 'Hart'}\n"
     ]
    }
   ],
   "source": [
    "person = {\"name\": \"Hart\"}  # Key: \"name\", Value: \"Hart\"\n",
    "print(person)"
   ]
  },
  {
   "cell_type": "markdown",
   "id": "8bcf2dcc",
   "metadata": {},
   "source": [
    "### Key Features of Dictionaries\n",
    "\n",
    "* Accessing Values: You can get a value by referring to its key inside square brackets [ ]."
   ]
  },
  {
   "cell_type": "code",
   "execution_count": 2,
   "id": "f99c557a",
   "metadata": {},
   "outputs": [
    {
     "name": "stdout",
     "output_type": "stream",
     "text": [
      "{'Name': 'Hart', 'Age': 30, 'City': 'Calabar'}\n"
     ]
    }
   ],
   "source": [
    "person = {\n",
    "    \"Name\": \"Hart\",\n",
    "    \"Age\": 30,\n",
    "    \"City\": \"Calabar\"\n",
    "}\n",
    "\n",
    "print(person)"
   ]
  },
  {
   "cell_type": "code",
   "execution_count": 3,
   "id": "13dae64a",
   "metadata": {},
   "outputs": [
    {
     "name": "stdout",
     "output_type": "stream",
     "text": [
      "30\n"
     ]
    }
   ],
   "source": [
    "# Get age of Alice\n",
    "print(person[\"Age\"])"
   ]
  },
  {
   "cell_type": "markdown",
   "id": "fdd2b999",
   "metadata": {},
   "source": [
    "* Adding or Updating Entries: You can add a new key-value pair or update an existing one by specifying the key and assigning a value."
   ]
  },
  {
   "cell_type": "code",
   "execution_count": 6,
   "id": "b5a32a81",
   "metadata": {},
   "outputs": [
    {
     "name": "stdout",
     "output_type": "stream",
     "text": [
      "{'Name': 'Bassey', 'Age': 30, 'City': 'Calabar', 'Diana': 30}\n"
     ]
    }
   ],
   "source": [
    "# Adding a new person\n",
    "person[\"Diana\"] = 30\n",
    "print(person)"
   ]
  },
  {
   "cell_type": "code",
   "execution_count": 5,
   "id": "bc638c26",
   "metadata": {},
   "outputs": [
    {
     "name": "stdout",
     "output_type": "stream",
     "text": [
      "{'Name': 'Bassey', 'Age': 30, 'City': 'Calabar', 'Diana': 30}\n"
     ]
    }
   ],
   "source": [
    "# Update name\n",
    "person[\"Name\"] = \"Bassey\"\n",
    "print(person)"
   ]
  },
  {
   "cell_type": "markdown",
   "id": "91ba0469",
   "metadata": {},
   "source": [
    "* Removing Entries: You can remove an entry using the del statement or the .pop() method."
   ]
  },
  {
   "cell_type": "code",
   "execution_count": 31,
   "id": "ae3f37b5",
   "metadata": {},
   "outputs": [
    {
     "name": "stdout",
     "output_type": "stream",
     "text": [
      "{'Name': 'Bassey', 'Age': 30, 'Diana': 30}\n"
     ]
    }
   ],
   "source": [
    "# Remove City from the dictionary\n",
    "del person[\"City\"]\n",
    "print(person)"
   ]
  },
  {
   "cell_type": "markdown",
   "id": "436eb449",
   "metadata": {},
   "source": [
    "* Checking if a Key Exists: Use the in keyword to check if a key exists."
   ]
  },
  {
   "cell_type": "code",
   "execution_count": 35,
   "id": "ad3e414c",
   "metadata": {},
   "outputs": [
    {
     "name": "stdout",
     "output_type": "stream",
     "text": [
      "Name is recorded.\n"
     ]
    }
   ],
   "source": [
    "if \"Name\" in person:\n",
    "    print(\"Name is recorded.\")"
   ]
  },
  {
   "cell_type": "markdown",
   "id": "d4aeb65a",
   "metadata": {},
   "source": [
    "Dictionaries are ideal for representing structured data where each item has a unique identifier (key). They’re especially useful in scenarios where you need to look up information quickly by a specific label, like usernames with associated email addresses or product IDs with descriptions"
   ]
  },
  {
   "cell_type": "markdown",
   "id": "3c42a607",
   "metadata": {},
   "source": [
    "<a name='7-4'></a>\n",
    "\n",
    "### 7.4 Sets\n",
    "A set is an unordered collection of unique items, meaning it automatically removes duplicates. Sets are useful for tasks involving uniqueness and membership checks."
   ]
  },
  {
   "cell_type": "markdown",
   "id": "5c543cec",
   "metadata": {},
   "source": [
    "* Creating a Set\n",
    "\n",
    "Sets are created using curly braces ({}), similar to dictionaries, but without key-value pairs."
   ]
  },
  {
   "cell_type": "code",
   "execution_count": 37,
   "id": "f0b541c5",
   "metadata": {},
   "outputs": [
    {
     "name": "stdout",
     "output_type": "stream",
     "text": [
      "{1, 2, 3, 4, 5}\n"
     ]
    }
   ],
   "source": [
    "my_set = {1, 2, 3, 4, 5}\n",
    "print(my_set)"
   ]
  },
  {
   "cell_type": "markdown",
   "id": "5cd416e3",
   "metadata": {},
   "source": [
    "* Unique Properties\n",
    "\n",
    "Sets automatically eliminate duplicate values:"
   ]
  },
  {
   "cell_type": "code",
   "execution_count": 39,
   "id": "43e55dce",
   "metadata": {},
   "outputs": [
    {
     "name": "stdout",
     "output_type": "stream",
     "text": [
      "{1, 2, 3, 4}\n"
     ]
    }
   ],
   "source": [
    "numbers = {1, 2, 2, 3, 4, 4} #duplicate values are eliminated \n",
    "print(numbers)"
   ]
  },
  {
   "cell_type": "markdown",
   "id": "0f1155eb",
   "metadata": {},
   "source": [
    "### Basic Set Methods"
   ]
  },
  {
   "cell_type": "markdown",
   "id": "56190ef4",
   "metadata": {},
   "source": [
    "* add(): Adds an item to the set."
   ]
  },
  {
   "cell_type": "code",
   "execution_count": 40,
   "id": "5d34b451",
   "metadata": {},
   "outputs": [
    {
     "name": "stdout",
     "output_type": "stream",
     "text": [
      "{1, 2, 3, 4, 6}\n"
     ]
    }
   ],
   "source": [
    "numbers.add(6)\n",
    "print(numbers)"
   ]
  },
  {
   "cell_type": "markdown",
   "id": "fd94131b",
   "metadata": {},
   "source": [
    "* remove(): Removes an item from the set. Raises an error if the item is not found."
   ]
  },
  {
   "cell_type": "code",
   "execution_count": 41,
   "id": "5565bccf",
   "metadata": {},
   "outputs": [
    {
     "name": "stdout",
     "output_type": "stream",
     "text": [
      "{1, 2, 3, 6}\n"
     ]
    }
   ],
   "source": [
    "numbers.remove(4)\n",
    "print(numbers)"
   ]
  },
  {
   "cell_type": "markdown",
   "id": "1fd45afc",
   "metadata": {},
   "source": [
    "* union(): Combines two sets."
   ]
  },
  {
   "cell_type": "code",
   "execution_count": 42,
   "id": "8098273f",
   "metadata": {},
   "outputs": [
    {
     "name": "stdout",
     "output_type": "stream",
     "text": [
      "{1, 2, 3, 4, 5}\n"
     ]
    }
   ],
   "source": [
    "set1 = {1, 2, 3}\n",
    "set2 = {3, 4, 5}\n",
    "combined = set1.union(set2)\n",
    "print(combined)"
   ]
  },
  {
   "cell_type": "markdown",
   "id": "9ce1ee40",
   "metadata": {},
   "source": [
    "* intersection(): Finds common items between two sets."
   ]
  },
  {
   "cell_type": "code",
   "execution_count": 43,
   "id": "ab0f5c33",
   "metadata": {},
   "outputs": [
    {
     "name": "stdout",
     "output_type": "stream",
     "text": [
      "{3}\n"
     ]
    }
   ],
   "source": [
    "common = set1.intersection(set2)\n",
    "print(common)"
   ]
  },
  {
   "cell_type": "markdown",
   "id": "8186d1e2",
   "metadata": {},
   "source": [
    "<a name='8'></a>\n",
    "\n",
    "# 8. Functions\n",
    "Functions are reusable pieces of code that allow you to perform specific tasks. They simplify code, make it reusable, and help organize your code into logical sections. Functions are essential in programming, especially in large projects, as they make code modular and easier to debug."
   ]
  },
  {
   "cell_type": "markdown",
   "id": "fa6b5649",
   "metadata": {},
   "source": [
    "<a name='8-1'></a>\n",
    "\n",
    "### 8.1 Defining Functions\n",
    "\n",
    "You define a function in Python using the \" def \" keyword. The basic syntax looks like this:"
   ]
  },
  {
   "cell_type": "code",
   "execution_count": 1,
   "id": "267910a7",
   "metadata": {},
   "outputs": [],
   "source": [
    "def function_name(parameters):\n",
    "    # code to be executed\n",
    "    return result  # (optional) returns a result"
   ]
  },
  {
   "cell_type": "markdown",
   "id": "7094a276",
   "metadata": {},
   "source": [
    "* def: This keyword tells Python that you’re defining a function.\n",
    "\n",
    "* function_name: The name you choose for your function. It should be descriptive of what the function does.\n",
    "\n",
    "* parameters: Optional values you can pass into the function to work with. Functions can have multiple parameters, or none at all.\n",
    "\n",
    "* return: Optional; it sends a result back to wherever the function was called."
   ]
  },
  {
   "cell_type": "markdown",
   "id": "09f9f92f",
   "metadata": {},
   "source": [
    "<a name='8-2'></a>\n",
    "\n",
    "### 8.2 Parameters and Return Values\n",
    "\n",
    "Parameters\n",
    "\n",
    "* Definition: Parameters are variables listed in a function's definition that receive values when the function is called.\n",
    "* Purpose: They allow you to customize the behavior of a function based on the values passed in."
   ]
  },
  {
   "cell_type": "code",
   "execution_count": 2,
   "id": "b07c8a61",
   "metadata": {},
   "outputs": [
    {
     "name": "stdout",
     "output_type": "stream",
     "text": [
      "Hello, Hart\n",
      "Hello, Joseph\n"
     ]
    }
   ],
   "source": [
    "def greet(name):\n",
    "    print(\"Hello, \" + name)\n",
    "\n",
    "greet(\"Hart\")\n",
    "greet(\"Joseph\")  #In this case, name is a parameter that lets us greet different people by name"
   ]
  },
  {
   "cell_type": "markdown",
   "id": "f3a43ee5",
   "metadata": {},
   "source": [
    "<a name='8-3'></a>\n",
    "\n",
    "### 8.3 Return Values\n",
    "\n",
    "* Definition: A return value is the output a function sends back to the part of the program that called it, using the return keyword.\n",
    "\n",
    "* Purpose: It allows a function to produce a result that can be used later in the code. If no return is provided, the function returns None by default."
   ]
  },
  {
   "cell_type": "code",
   "execution_count": 4,
   "id": "4cce3d65",
   "metadata": {},
   "outputs": [
    {
     "name": "stdout",
     "output_type": "stream",
     "text": [
      "10\n"
     ]
    }
   ],
   "source": [
    "def add(x, y):\n",
    "    return x + y\n",
    "\n",
    "result = add(4, 6)\n",
    "print(result)   #In this example, the add function returns the sum of x and y, allowing us to store it in result for later use"
   ]
  },
  {
   "cell_type": "markdown",
   "id": "8b5b1352",
   "metadata": {},
   "source": [
    "<a name='9'></a>\n",
    "\n",
    "# 9 Error Handling\n",
    "\n",
    "Error handling is an essential part of programming, as it helps manage unexpected situations that may arise during code execution."
   ]
  },
  {
   "cell_type": "markdown",
   "id": "a75aa55e",
   "metadata": {},
   "source": [
    "<a name='9-1'></a>\n",
    "\n",
    "### 9.1 Basic Errors\n",
    "\n",
    "Here are a few common types of errors in Python:\n",
    "\n",
    "\n",
    "* SyntaxError: Occurs when the code is not properly formatted according to Python’s syntax rules."
   ]
  },
  {
   "cell_type": "code",
   "execution_count": 5,
   "id": "fb142f2b",
   "metadata": {},
   "outputs": [
    {
     "ename": "SyntaxError",
     "evalue": "incomplete input (4113483661.py, line 1)",
     "output_type": "error",
     "traceback": [
      "\u001b[1;36m  Cell \u001b[1;32mIn[5], line 1\u001b[1;36m\u001b[0m\n\u001b[1;33m    print(\"Hello\"  # Missing closing parenthesis\u001b[0m\n\u001b[1;37m                                                ^\u001b[0m\n\u001b[1;31mSyntaxError\u001b[0m\u001b[1;31m:\u001b[0m incomplete input\n"
     ]
    }
   ],
   "source": [
    "print(\"Hello\"  # Missing closing parenthesis"
   ]
  },
  {
   "cell_type": "markdown",
   "id": "7be15ef7",
   "metadata": {},
   "source": [
    "* TypeError: Happens when an operation is applied to an inappropriate type."
   ]
  },
  {
   "cell_type": "code",
   "execution_count": 6,
   "id": "e10f823e",
   "metadata": {},
   "outputs": [
    {
     "ename": "TypeError",
     "evalue": "can only concatenate str (not \"int\") to str",
     "output_type": "error",
     "traceback": [
      "\u001b[1;31m---------------------------------------------------------------------------\u001b[0m",
      "\u001b[1;31mTypeError\u001b[0m                                 Traceback (most recent call last)",
      "Cell \u001b[1;32mIn[6], line 1\u001b[0m\n\u001b[1;32m----> 1\u001b[0m \u001b[38;5;28mprint\u001b[39m(\u001b[38;5;124;43m\"\u001b[39;49m\u001b[38;5;124;43mHello\u001b[39;49m\u001b[38;5;124;43m\"\u001b[39;49m\u001b[43m \u001b[49m\u001b[38;5;241;43m+\u001b[39;49m\u001b[43m \u001b[49m\u001b[38;5;241;43m5\u001b[39;49m)\n",
      "\u001b[1;31mTypeError\u001b[0m: can only concatenate str (not \"int\") to str"
     ]
    }
   ],
   "source": [
    "print(\"Hello\" + 5)  # You can't add a string and an integer"
   ]
  },
  {
   "cell_type": "markdown",
   "id": "61559bcb",
   "metadata": {},
   "source": [
    "* NameError: Raised when trying to access a variable or function that hasn’t been defined."
   ]
  },
  {
   "cell_type": "code",
   "execution_count": 7,
   "id": "db0e2192",
   "metadata": {},
   "outputs": [
    {
     "ename": "NameError",
     "evalue": "name 'my_var' is not defined",
     "output_type": "error",
     "traceback": [
      "\u001b[1;31m---------------------------------------------------------------------------\u001b[0m",
      "\u001b[1;31mNameError\u001b[0m                                 Traceback (most recent call last)",
      "Cell \u001b[1;32mIn[7], line 1\u001b[0m\n\u001b[1;32m----> 1\u001b[0m \u001b[38;5;28mprint\u001b[39m(\u001b[43mmy_var\u001b[49m)\n",
      "\u001b[1;31mNameError\u001b[0m: name 'my_var' is not defined"
     ]
    }
   ],
   "source": [
    "print(my_var)  # my_var has not been defined"
   ]
  },
  {
   "cell_type": "markdown",
   "id": "b7cf6b38",
   "metadata": {},
   "source": [
    "* IndexError: Occurs when accessing an index that’s out of the range of a list or other indexed structure."
   ]
  },
  {
   "cell_type": "code",
   "execution_count": 8,
   "id": "eb1d82cc",
   "metadata": {},
   "outputs": [
    {
     "ename": "IndexError",
     "evalue": "list index out of range",
     "output_type": "error",
     "traceback": [
      "\u001b[1;31m---------------------------------------------------------------------------\u001b[0m",
      "\u001b[1;31mIndexError\u001b[0m                                Traceback (most recent call last)",
      "Cell \u001b[1;32mIn[8], line 2\u001b[0m\n\u001b[0;32m      1\u001b[0m my_list \u001b[38;5;241m=\u001b[39m [\u001b[38;5;241m1\u001b[39m, \u001b[38;5;241m2\u001b[39m, \u001b[38;5;241m3\u001b[39m]\n\u001b[1;32m----> 2\u001b[0m \u001b[38;5;28mprint\u001b[39m(\u001b[43mmy_list\u001b[49m\u001b[43m[\u001b[49m\u001b[38;5;241;43m5\u001b[39;49m\u001b[43m]\u001b[49m)\n",
      "\u001b[1;31mIndexError\u001b[0m: list index out of range"
     ]
    }
   ],
   "source": [
    "my_list = [1, 2, 3]\n",
    "print(my_list[5])  # Index 5 is out of range for a list of length 3"
   ]
  },
  {
   "cell_type": "markdown",
   "id": "5af0bd2a",
   "metadata": {},
   "source": [
    "<a name='9-2'></a>\n",
    "\n",
    "### 9.2 Try/Except: Handling Errors\n",
    "Python’s try and except blocks allow you to handle errors gracefully by catching them and taking corrective action or displaying custom error messages.\n",
    "\n",
    "* Basic Syntax:"
   ]
  },
  {
   "cell_type": "code",
   "execution_count": null,
   "id": "53609dd7",
   "metadata": {},
   "outputs": [],
   "source": [
    "try:\n",
    "    # Code that may raise an error\n",
    "    risky_operation()\n",
    "except SpecificErrorType:\n",
    "    # Code that runs if that specific error occurs\n",
    "    print(\"An error occurred.\")"
   ]
  },
  {
   "cell_type": "markdown",
   "id": "b294f70a",
   "metadata": {},
   "source": [
    "* Example: Handling a Division by Zero Error\n",
    "\n",
    "You want to divide two numbers, but the second number might be zero, which would raise a ZeroDivisionError. Here’s how to handle  it."
   ]
  },
  {
   "cell_type": "code",
   "execution_count": 12,
   "id": "88e946aa",
   "metadata": {},
   "outputs": [
    {
     "name": "stdout",
     "output_type": "stream",
     "text": [
      "Result: 5.0\n",
      "Error: Cannot divide by zero.\n"
     ]
    }
   ],
   "source": [
    "def divide_numbers(a, b):\n",
    "    try:\n",
    "        result = a / b\n",
    "        print(\"Result:\", result)\n",
    "    except ZeroDivisionError:\n",
    "        print(\"Error: Cannot divide by zero.\")\n",
    "\n",
    "divide_numbers(10, 2)  \n",
    "divide_numbers(10, 0)  "
   ]
  },
  {
   "cell_type": "markdown",
   "id": "48ba9cd9",
   "metadata": {},
   "source": [
    "# Conclusion\n",
    "\n",
    "Congratulations on completing this introduction to Python for beginners!\n",
    "\n",
    "In this notebook, we covered the foundational concepts of Python, including:\n",
    "\n",
    "* Basic syntax and data types\n",
    "* Variables, operators, and control flow\n",
    "* Collections like lists, tuples, dictionaries, and sets\n",
    "* Functions and error handling."
   ]
  },
  {
   "cell_type": "markdown",
   "id": "5fb6f762",
   "metadata": {},
   "source": [
    "# Additional Reading Material\n",
    "\n",
    "Here are some great resources to help you continue learning Python:\n",
    "\n",
    "### Official Documentation\n",
    "* [Python Documentation](https://docs.python.org/3/): The official Python documentation is an excellent resource for in-depth understanding of Python's features.\n",
    "\n",
    "### Books\n",
    "* [Automate the Boring Stuff with Python](https://automatetheboringstuff.com/#toc) by Al Sweigart - Teaches Python through practical examples and automation tasks.\n",
    "* [Python for Data Analysis](https://wesmckinney.com/book/) by Wes McKinney - Focuses on using Python for data manipulation and analysis.\n",
    "* Python Crash Course by Eric Matthes: A comprehensive guide for beginners that combines theory and projects.\n",
    "\n",
    "### Online Tutorials and Courses\n",
    "* [Codecademy - Learn Python](https://www.codecademy.com/learn/learn-python)\n",
    "* [Coursera - Programming for Everybody (Getting Started with Python)](https://www.coursera.org/learn/python)\n",
    "* [Udemy (paid) - Complete Python Bootcamp](https://www.udemy.com/course/complete-python-bootcamp/)\n",
    "\n",
    "### Video Tutorials\n",
    "* [Corey Schafer's Python tutorials](https://www.youtube.com/playlist?list=PL-osiE80TeTskrapNbzXhwoFUiLCjGgY7)\n",
    "* [Jenny's Lectures - Python basics to Advance](https://www.youtube.com/watch?v=6i3EGqOBRiU&list=PLdo5W4Nhv31bZSiqiOL5ta39vSnBxpOPT)\n",
    "* [Udemy - Complete Python Bootcamp by Jose Portilla](https://www.udemy.com/course/complete-python-bootcamp/)\n",
    "* [Coursera - Python for Everybody by University of Michigan](https://www.coursera.org/specializations/python)\n",
    "* [Khan Academy - Python tutorials](https://www.khanacademy.org/computing/computer-programming)\n",
    "\n",
    "### Website\n",
    "* [w3schools - Python](https://www.w3schools.com/python/)\n",
    "\n",
    "*Note: Suggested resources are not affiliated or sponsoring this project.*"
   ]
  },
  {
   "cell_type": "markdown",
   "id": "00290eaf",
   "metadata": {},
   "source": [
    "## [BACK TO TOP](#0)"
   ]
  }
 ],
 "metadata": {
  "kernelspec": {
   "display_name": "Python 3 (ipykernel)",
   "language": "python",
   "name": "python3"
  },
  "language_info": {
   "codemirror_mode": {
    "name": "ipython",
    "version": 3
   },
   "file_extension": ".py",
   "mimetype": "text/x-python",
   "name": "python",
   "nbconvert_exporter": "python",
   "pygments_lexer": "ipython3",
   "version": "3.10.9"
  }
 },
 "nbformat": 4,
 "nbformat_minor": 5
}
